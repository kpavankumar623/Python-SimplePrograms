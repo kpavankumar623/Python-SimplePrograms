{
 "cells": [
  {
   "cell_type": "code",
   "execution_count": 17,
   "metadata": {},
   "outputs": [
    {
     "name": "stdout",
     "output_type": "stream",
     "text": [
      "Enter the some Amount:2510\n",
      "2000=1,500=1,10=1,"
     ]
    }
   ],
   "source": [
    "#problem 1\n",
    "\n",
    "notes = [10,20,50,100,500,2000]\n",
    "amount = int(input(\"Enter the some Amount:\"))\n",
    "result = {}\n",
    "if (amount %  2000 != amount):\n",
    "    result[2000] = amount//2000\n",
    "    amount = amount % 2000\n",
    "if (amount %  500 != amount):\n",
    "    result[500] = amount//500\n",
    "    amount = amount % 500\n",
    "if (amount %  100 != amount):\n",
    "    result[100] = amount//100\n",
    "    amount = amount % 100\n",
    "if (amount %  50 != amount):\n",
    "    result[50] = amount//50\n",
    "    amount = amount % 50\n",
    "if (amount %  20 != amount):\n",
    "    result[20] = amount//20\n",
    "    amount = amount % 20\n",
    "if (amount %  10 != amount):\n",
    "    result[10] = amount//10\n",
    "    \n",
    "for k,v in result.items():\n",
    "    print( str(k)  +\"=\"+str(v) ,end =\",\")\n",
    "    "
   ]
  },
  {
   "cell_type": "code",
   "execution_count": 22,
   "metadata": {},
   "outputs": [
    {
     "name": "stdout",
     "output_type": "stream",
     "text": [
      "Enter the String: aaaaabbbccd\n",
      "a\n"
     ]
    }
   ],
   "source": [
    "# problem 2\n",
    "\n",
    "#string=\"aaaaaaabbbbcccdddd\"\n",
    "string  =input(\"Enter the String: \")\n",
    "sett = set(s)\n",
    "\n",
    "count = 0\n",
    "char =' '\n",
    "\n",
    "for i in sett:\n",
    "    if count < string.count(i):\n",
    "        count = string.count(i)\n",
    "        char = i\n",
    "print(char)\n",
    "    "
   ]
  },
  {
   "cell_type": "code",
   "execution_count": 34,
   "metadata": {},
   "outputs": [
    {
     "name": "stdout",
     "output_type": "stream",
     "text": [
      "output = [1, 3, 4]\n",
      "removed elements : 2\n"
     ]
    }
   ],
   "source": [
    "#problem 3\n",
    "\n",
    "numbers = [1,2,3,4,5]\n",
    "remove_count = 0\n",
    "for i in numbers:\n",
    "    if i % 2:\n",
    "        numbers.pop(i)\n",
    "        remove_count += 1\n",
    "   \n",
    "print(\"output = \" + str(numbers))\n",
    "print(\"removed elements : {}\".format(remove_count)) \n",
    "    "
   ]
  },
  {
   "cell_type": "code",
   "execution_count": 45,
   "metadata": {},
   "outputs": [
    {
     "name": "stdout",
     "output_type": "stream",
     "text": [
      "cities = {'Concord': ['New Hampshire', 'Massachusetts'], 'Hanover': 'New Hampshire', 'Boston': 'Massachusetts', 'Springfield': ['Massachusetts', 'Illinois'], 'Chicago': 'Illinois', 'Peoria': 'Illinois'}\n"
     ]
    }
   ],
   "source": [
    "# problem 4\n",
    "\n",
    "states = {'New Hampshire': ['Concord', 'Hanover'],'Massachusetts': ['Boston', 'Concord', 'Springfield'],\n",
    "           'Illinois': ['Chicago', 'Springfield', 'Peoria'] }\n",
    "\n",
    "cities = {}\n",
    "for k,v in states.items():\n",
    "    for i in v:\n",
    "        if i in cities:\n",
    "            cities[i] = [cities[i],k]\n",
    "        else:\n",
    "            cities[i] = k;\n",
    "print(\"cities = {}\".format(cities))"
   ]
  },
  {
   "cell_type": "code",
   "execution_count": 48,
   "metadata": {},
   "outputs": [
    {
     "name": "stdout",
     "output_type": "stream",
     "text": [
      "Acme\n"
     ]
    }
   ],
   "source": [
    "#problem 5\n",
    "\n",
    "restaurants = [ [ \"Acme\", \"Italian\", 2, 4, 3, 5],[ \"Flintstone\", \"Steak\", 5, 2, 4, 3, 3, 4],\n",
    "               [ \"BellaTroy\", \"Italian\", 1, 4, 5] ]\n",
    "\n",
    "for i in restaurants:\n",
    "    if(i[1] == \"Italian\"):\n",
    "        if 1 not in i[2:] and 5 in i[2:]:\n",
    "            print(i[0] ,end=\",\")\n",
    "        "
   ]
  },
  {
   "cell_type": "code",
   "execution_count": 59,
   "metadata": {},
   "outputs": [
    {
     "name": "stdout",
     "output_type": "stream",
     "text": [
      "z\n"
     ]
    }
   ],
   "source": [
    "dict =  {'2':('a','b','c'),'3':('d','e','f'),'4':('h','i','j'),'5':('k','l','m'),\n",
    "                '6':('n','o','p'),'7':('p','q','r','s'),'8':('t','u','v'),'9':('w','x','y','z')}\n",
    "\n",
    "print(dict['9'][3])"
   ]
  },
  {
   "cell_type": "code",
   "execution_count": 67,
   "metadata": {},
   "outputs": [
    {
     "name": "stdout",
     "output_type": "stream",
     "text": [
      "zeke"
     ]
    }
   ],
   "source": [
    "#problem 6\n",
    "\n",
    "dict =  {'2':('a','b','c'),'3':('d','e','f'),'4':('g','h','i'),'5':('j','k','l'),\n",
    "                '6':('m','n','o'),'7':('p','q','r','s'),'8':('t','u','v'),'9':('w','x','y','z')}\n",
    "\n",
    "number = \"9999335533\"\n",
    "temp = number[0]\n",
    "count= 0\n",
    "list =[]\n",
    "for i in range(len(number)):\n",
    "    if temp == number[i]:\n",
    "        count+=1\n",
    "    else:\n",
    "        list.append(dict[temp][count-1])\n",
    "        temp = number[i]\n",
    "        count=1\n",
    "    if i == (len(number)-1):\n",
    "         list.append(dict[temp][count-1])\n",
    "        \n",
    "        \n",
    "for i in list:\n",
    "    print(i,end=\"\")"
   ]
  }
 ],
 "metadata": {
  "kernelspec": {
   "display_name": "Python 3",
   "language": "python",
   "name": "python3"
  },
  "language_info": {
   "codemirror_mode": {
    "name": "ipython",
    "version": 3
   },
   "file_extension": ".py",
   "mimetype": "text/x-python",
   "name": "python",
   "nbconvert_exporter": "python",
   "pygments_lexer": "ipython3",
   "version": "3.7.4"
  }
 },
 "nbformat": 4,
 "nbformat_minor": 2
}
